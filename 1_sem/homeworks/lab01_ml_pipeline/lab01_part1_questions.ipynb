{
 "cells": [
  {
   "cell_type": "markdown",
   "metadata": {},
   "source": [
    "*Credits: materials from this notebook belong to YSDA [Practical DL](https://github.com/yandexdataschool/Practical_DL) course. Special thanks for making them available online.*"
   ]
  },
  {
   "cell_type": "markdown",
   "metadata": {},
   "source": [
    "# Lab assignment №1, part 1\n",
    "\n",
    "This lab assignment consists of several parts. You are supposed to make some transformations, train some models, estimate the quality of the models and explain your results.\n",
    "\n",
    "Several comments:\n",
    "* Don't hesitate to ask questions, it's a good practice.\n",
    "* No private/public sharing, please. The copied assignments will be graded with 0 points.\n",
    "* Blocks of this lab will be graded separately."
   ]
  },
  {
   "cell_type": "markdown",
   "metadata": {},
   "source": [
    "## 1. Matrix differentiation"
   ]
  },
  {
   "cell_type": "markdown",
   "metadata": {},
   "source": [
    "Since it easy to google every task please please please try to undestand what's going on. The \"just answer\" thing will be not counted, make sure to present derivation of your solution. It is absolutely OK if you found an answer on web then just exercise in $\\LaTeX$ copying it into here."
   ]
  },
  {
   "cell_type": "markdown",
   "metadata": {},
   "source": [
    "Useful links: \n",
    "[1](http://www.machinelearning.ru/wiki/images/2/2a/Matrix-Gauss.pdf)\n",
    "[2](http://www.atmos.washington.edu/~dennis/MatrixCalculus.pdf)"
   ]
  },
  {
   "cell_type": "markdown",
   "metadata": {},
   "source": [
    "<h3>To solve this problem we just use basics of tensor formalism(ty Stanislav Leonidovich):"
   ]
  },
  {
   "cell_type": "markdown",
   "metadata": {},
   "source": [
    "## ex. 1"
   ]
  },
  {
   "cell_type": "markdown",
   "metadata": {},
   "source": [
    "$$  \n",
    "y = x^Tx,  \\quad x \\in \\mathbb{R}^N \n",
    "$$"
   ]
  },
  {
   "cell_type": "markdown",
   "metadata": {},
   "source": [
    "$$\\begin{gather}\n",
    "\\frac{dy}{dx}: x^{T} x = [x^{i} x_{i}] \\\\\n",
    "\\left(\\frac{dy}{dx}\\right)_{\\alpha} = \n",
    "\\frac{\\partial (x^{i} x_{i})}{\\partial x_{\\alpha}} = \n",
    "2x_{\\alpha} \\Rightarrow \\frac{dy}{dx} = 2x\n",
    "\\end{gather}$$ "
   ]
  },
  {
   "cell_type": "markdown",
   "metadata": {},
   "source": [
    "## ex. 2"
   ]
  },
  {
   "cell_type": "markdown",
   "metadata": {},
   "source": [
    "$$ y = tr(AB) \\quad A,B \\in \\mathbb{R}^{N \\times N} $$ "
   ]
  },
  {
   "cell_type": "markdown",
   "metadata": {},
   "source": [
    "$$\\begin{gather}\n",
    "\\frac{dy}{dA}: AB = [a_{ik}b^{kj}] \n",
    "\\Rightarrow \n",
    "tr(AB) = a_{ik}b^{ki}\\\\\n",
    "\\left( \\frac{dy}{dA}\\right)_{\\alpha\\beta} = \n",
    "\\frac{\\partial (a_{ik}b^{ki})}{\\partial a_{\\alpha\\beta}} = \n",
    "\\delta_{i}^{\\alpha} \\delta_{k}^{\\beta}b^{ki} = \n",
    "b_{\\beta\\alpha} \n",
    "\\Rightarrow \n",
    "\\frac{dy}{dA} = B^T\n",
    "\\end{gather}$$"
   ]
  },
  {
   "cell_type": "markdown",
   "metadata": {},
   "source": [
    "## ex. 3"
   ]
  },
  {
   "cell_type": "markdown",
   "metadata": {},
   "source": [
    "$$  \n",
    "y = x^TAc , \\quad A\\in \\mathbb{R}^{N \\times N}, x\\in \\mathbb{R}^{N}, c\\in \\mathbb{R}^{N} \n",
    "$$"
   ]
  },
  {
   "cell_type": "markdown",
   "metadata": {},
   "source": [
    "$$\n",
    "y = x_{k} a_{i}^{k} c^{i}\n",
    "$$"
   ]
  },
  {
   "cell_type": "markdown",
   "metadata": {},
   "source": [
    "$$\\begin{gather}\n",
    "\\frac{dy}{dx}: \n",
    "\\left( \\frac{dy}{dx} \\right)_{\\alpha} = \n",
    "\\frac{\\partial (x_{k} a_{i}^{k} c^{i}) }{\\partial x_{\\alpha}} = \n",
    "\\delta_{k}^{\\alpha} a^{i}_{k} c_{i} =\n",
    "a^{i}_{\\alpha} c_{i}\n",
    "\\Rightarrow \\frac{dy}{dx} = Ac \n",
    "\\end{gather}$$"
   ]
  },
  {
   "cell_type": "markdown",
   "metadata": {},
   "source": [
    "$$\\begin{gather}\n",
    "\\frac{dy}{dA}: \n",
    "\\left( \\frac{dy}{dA} \\right)_{\\alpha}^{\\beta} = \n",
    "\\frac{\\partial (x_{k} a_{i}^{k} c^{i}) }{\\partial a_{\\alpha}^{\\beta}} = \n",
    "\\delta_{i}^{\\alpha} \\delta_{j}^{\\beta} x^{k} c_{i} = \n",
    "x^{\\alpha} c_{\\beta} \n",
    "\\Rightarrow \\frac{dy}{dA} = xc^T\n",
    "\\end{gather}$$ "
   ]
  },
  {
   "cell_type": "markdown",
   "metadata": {},
   "source": [
    "Hint for the latter (one of the ways): use *ex. 2* result and the fact \n",
    "$$\n",
    "tr(ABC) = tr (CAB)\n",
    "$$"
   ]
  },
  {
   "cell_type": "markdown",
   "metadata": {},
   "source": [
    "## ex. 4"
   ]
  },
  {
   "cell_type": "markdown",
   "metadata": {},
   "source": [
    "Classic matrix factorization example. Given matrix $X$ you need to find $A$, $S$ to approximate $X$. This can be done by simple gradient descent iteratively alternating $A$ and $S$ updates.\n",
    "$$\n",
    "J = || X - AS ||_F^2  , \\quad A\\in \\mathbb{R}^{N \\times R} , \\quad S\\in \\mathbb{R}^{R \\times M}\n",
    "$$\n",
    "$$\n",
    "\\frac{dJ}{dS} = ? \n",
    "$$\n",
    "\n",
    "You may use one of the following approaches:"
   ]
  },
  {
   "cell_type": "markdown",
   "metadata": {},
   "source": [
    "#### First approach\n",
    "Using ex.2 and the fact:\n",
    "$$\n",
    "|| X ||_F^2 = tr(XX^T) \n",
    "$$ \n",
    "it is easy to derive gradients (you can find it in one of the refs). "
   ]
  },
  {
   "cell_type": "markdown",
   "metadata": {},
   "source": [
    "$$\\begin{gather}\n",
    "\\left.\n",
    "\\begin{array}{c}\n",
    "(X-AS)_{i}^{j}     = x_{i}^{j} - a_{i}^{k_1}s_{k_1}^{j} \\\\ \n",
    "((X-AS)^T)_{i}^{j} = x_{j}^{i} - a_{j}^{k_2}s_{k_2}^{i}\n",
    "\\end{array} \\right| \\Rightarrow \n",
    "(X-AS)(X-AS)^T = \n",
    "(x_{i}^{l} - a_{i}^{k_1}s_{k_1}^{l})(x_{j}^{l} - a_{j}^{k_2}s_{k_2}^{l}) \n",
    "\\Rightarrow \\\\ \\Rightarrow\n",
    "tr((X-AS)(X-AS)^T) = \\left| i = j \\right| = \n",
    "(x_{i}^{l} - a_{i}^{k_1}s_{k_1}^{l})(x_{i}^{l} - a_{i}^{k_2}s_{k_2}^{l}) = \n",
    "(x_{i}^{l})^2 - x_{i}^{l}a_{i}^{k_1}s_{k_1}^{l} - x_{i}^{l}a_{i}^{k_2}s_{k_2}^{l} + a_{i}^{k_1}s_{k_1}^{l}a_{i}^{k_2}s_{k_2}^{l} \n",
    "\\Rightarrow \\\\ \\Rightarrow\n",
    "\\left(\\frac{tr((X-AS)(X-AS)^T)}{dS} \\right)_{\\alpha}^{\\beta} = \n",
    "\\frac{\\partial((x_{i}^{l})^2 - x_{i}^{l}a_{i}^{k_1}s_{k_1}^{l} - x_{i}^{l}a_{i}^{k_2}s_{k_2}^{l} + a_{i}^{k_1}s_{k_1}^{l}a_{i}^{k_2}s_{k_2}^{l})}{\\partial s_{\\alpha}^{\\beta}} = \\\\ =\n",
    "-\\delta_{k_1}^{\\alpha} \\delta_{l}^{\\beta} x^{i}_{l}a^{i}_{k_1} \n",
    "-\\delta_{k_2}^{\\alpha} \\delta_{l}^{\\beta} x^{i}_{l}a^{i}_{k_2} \n",
    "+\\delta_{k_1}^{\\alpha} \\delta_{l}^{\\beta} a^{i}_{k_1}a^{i}_{k_2}s^{k_2}_{l} \n",
    "+\\delta_{k_2}^{\\alpha} \\delta_{l}^{\\beta} a^{i}_{k_1}s^{k_1}_{l}a^{i}_{k_2} =\n",
    "-x^{i}_{\\beta}a^{i}_{\\alpha} - x^{i}_{\\beta}a^{i}_{\\alpha} + a^{i}_{\\alpha}a^{i}_{k_2}s^{k_2}_{\\beta} + a^{i}_{k_1}s^{k_1}_{\\beta}a^{i}_{\\alpha} =\n",
    "-2a^{i}_{\\alpha}x^{i}_{\\beta} + a^{i}_{\\alpha}(a^{i}_{k_2}s^{k_2}_{\\beta}) + (a^{i}_{k_1}s^{k_1}_{\\beta})a^{i}_{\\alpha}\n",
    "\\Rightarrow \\\\ \\Rightarrow\n",
    "\\frac{dJ}{dS} = -2A^TX + A^T(AS + AS) = 2A^T(AS-X) \\Rightarrow \\frac{dJ}{dS} = 2A^T(AS-X)\n",
    "\\end{gather}$$"
   ]
  },
  {
   "cell_type": "markdown",
   "metadata": {},
   "source": [
    "#### Second approach\n",
    "You can use *slightly different techniques* if they suits you. Take a look at this derivation:\n",
    "<img src=\"grad.png\">\n",
    "\\\n",
    "(excerpt from [Handbook of blind source separation, Jutten, page 517](https://books.google.ru/books?id=PTbj03bYH6kC&printsec=frontcover&dq=Handbook+of+Blind+Source+Separation&hl=en&sa=X&ved=0ahUKEwi-q_apiJDLAhULvXIKHVXJDWcQ6AEIHDAA#v=onepage&q=Handbook%20of%20Blind%20Source%20Separation&f=false), open for better picture)."
   ]
  },
  {
   "cell_type": "markdown",
   "metadata": {
    "jp-MarkdownHeadingCollapsed": true
   },
   "source": [
    "#### Third approach\n",
    "And finally we can use chain rule! \n",
    "let $ F = AS $ \n",
    "\n",
    "**Find**\n",
    "$$\n",
    "\\frac{dJ}{dF} =  \n",
    "$$ \n",
    "and \n",
    "$$\n",
    "\\frac{dF}{dS} =  \n",
    "$$ \n",
    "(the shape should be $ NM \\times RM )$.\n",
    "\n",
    "Now it is easy do get desired gradients:\n",
    "$$\n",
    "\\frac{dJ}{dS} =  \n",
    "$$ "
   ]
  },
  {
   "cell_type": "markdown",
   "metadata": {
    "collapsed": true,
    "jupyter": {
     "outputs_hidden": true
    }
   },
   "source": [
    "## 2. kNN questions\n",
    "Here come the questions from the assignment0_01. Please, refer to the assignment0_01 to get the context of the questions."
   ]
  },
  {
   "cell_type": "markdown",
   "metadata": {},
   "source": [
    "### Question 1\n",
    "\n",
    "Notice the structured patterns in the distance matrix, where some rows or columns are visible brighter. (Note that with the default color scheme black indicates low distances while white indicates high distances.)\n",
    "\n",
    "- What in the data is the cause behind the distinctly bright rows?\n",
    "- What causes the columns?\n",
    "\n",
    "*Your Answer:*\n",
    "\n",
    "1. \"White\" rows are caused by a small match of an object from $X$(test sample) with each of the objects in $X_{Train}$(training sample)\n",
    "2. \"White\" columns are due to a small match of an object from $X_{Train}$(training sample) with objects from $X$(test sample)\n"
   ]
  },
  {
   "cell_type": "markdown",
   "metadata": {},
   "source": [
    "### Question 2\n",
    "\n",
    "We can also use other distance metrics such as L1 distance.\n",
    "For pixel values $p_{ij}^{(k)}$ at location $(i,j)$ of some image $I_k$, \n",
    "\n",
    "the mean $\\mu$ across all pixels over all images is $$\\mu=\\frac{1}{nhw}\\sum_{k=1}^n\\sum_{i=1}^{h}\\sum_{j=1}^{w}p_{ij}^{(k)}$$\n",
    "And the pixel-wise mean $\\mu_{ij}$ across all images is \n",
    "$$\\mu_{ij}=\\frac{1}{n}\\sum_{k=1}^np_{ij}^{(k)}.$$\n",
    "The general standard deviation $\\sigma$ and pixel-wise standard deviation $\\sigma_{ij}$ is defined similarly.\n",
    "\n",
    "Which of the following preprocessing steps will not change the performance of a Nearest Neighbor classifier that uses L1 distance? Select all that apply.\n",
    "1. Subtracting the mean $\\mu$ ($\\tilde{p}_{ij}^{(k)}=p_{ij}^{(k)}-\\mu$.)\n",
    "2. Subtracting the per pixel mean $\\mu_{ij}$  ($\\tilde{p}_{ij}^{(k)}=p_{ij}^{(k)}-\\mu_{ij}$.)\n",
    "3. Subtracting the mean $\\mu$ and dividing by the standard deviation $\\sigma$.\n",
    "4. Subtracting the pixel-wise mean $\\mu_{ij}$ and dividing by the pixel-wise standard deviation $\\sigma_{ij}$.\n",
    "5. Rotating the coordinate axes of the data.\n",
    "\n",
    "*Your Answer:* 123\n",
    "\n",
    "*Your Explanation:* \n",
    "\n",
    "1. $$\\begin{gather}\n",
    "L_{1}(x^{k}, x^{m}) =\n",
    "\\left|\\left| \\tilde{p}^{(k)} - \\tilde{p}^{(m)} \\right|\\right| = \n",
    "\\sum_{i=1}^{w} \\sum_{j=1}^{h} \\left| \\tilde{p}_{ij}^{(k)} - \\tilde{p}_{ij}^{(m)} \\right| = \n",
    "\\sum_{i=1}^{w} \\sum_{j=1}^{h} \\left| (p_{ij}^{(k)} - \\mu) - (p_{ij}^{(m)} - \\mu) \\right| = \n",
    "\\sum_{i=1}^{w} \\sum_{j=1}^{h} \\left|  p_{ij}^{(k)} - p_{ij}^{(m)} \\right| = \n",
    "\\left|\\left| p^{(k)} - p^{(m)} \\right|\\right|\n",
    "\\end{gather}$$\n",
    "2. $$\\begin{gather}\n",
    "L_{1}(x^{k}, x^{m}) =\n",
    "\\left|\\left| \\tilde{p}^{(k)} - \\tilde{p}^{(m)} \\right|\\right| = \n",
    "\\sum_{i=1}^{w} \\sum_{j=1}^{h} \\left| \\tilde{p}_{ij}^{(k)} - \\tilde{p}_{ij}^{(m)} \\right| = \n",
    "\\sum_{i=1}^{w} \\sum_{j=1}^{h} \\left| (p_{ij}^{(k)} - \\mu_{ij}) - (p_{ij}^{(m)} - \\mu_{ij}) \\right| = \n",
    "\\sum_{i=1}^{w} \\sum_{j=1}^{h} \\left|  p_{ij}^{(k)} - p_{ij}^{(m)} \\right| = \n",
    "\\left|\\left| p^{(k)} - p^{(m)} \\right|\\right|\n",
    "\\end{gather}$$\n",
    "3. $$\\begin{gather}\n",
    "L_{1}(x^{k}, x^{m}) =\n",
    "\\left|\\left| \\tilde{p}^{(k)} - \\tilde{p}^{(m)} \\right|\\right| = \n",
    "\\sum_{i=1}^{w} \\sum_{j=1}^{h} \\left| \\tilde{p}_{ij}^{(k)} - \\tilde{p}_{ij}^{(m)} \\right| = \n",
    "\\sum_{i=1}^{w} \\sum_{j=1}^{h} \\left| \\frac{(p_{ij}^{(k)} - \\mu)}{\\sigma} - \\frac{(p_{ij}^{(m)} - \\mu)}{\\sigma} \\right| = \n",
    "\\frac{\\sum_{i=1}^{w} \\sum_{j=1}^{h} \\left|  p_{ij}^{(k)} - p_{ij}^{(m)} \\right|}{\\sigma} = \n",
    "\\frac{\\left|\\left| p^{(k)} - p^{(m)} \\right|\\right|}{\\sigma} \\\\\n",
    "\\text{Where $\\sigma$ is constant. }\n",
    "\\text{This preprocessing step will not change the performance of a Nearest Neighbor classifier that uses $L_{1}$ distance.}\n",
    "\\end{gather}$$\n",
    "4. $$\\begin{gather}\n",
    "L_{1}(x^{k}, x^{m}) =\n",
    "\\left|\\left| \\tilde{p}^{(k)} - \\tilde{p}^{(m)} \\right|\\right| = \n",
    "\\sum_{i=1}^{w} \\sum_{j=1}^{h} \\left| \\tilde{p}_{ij}^{(k)} - \\tilde{p}_{ij}^{(m)} \\right| = \n",
    "\\sum_{i=1}^{w} \\sum_{j=1}^{h} \\left| \\frac{(p_{ij}^{(k)} - \\mu_{ij})}{\\sigma_{ij}} - \\frac{(p_{ij}^{(m)} - \\mu_{ij})}{\\sigma_{ij}} \\right| =\n",
    "\\sum_{i=1}^{w} \\sum_{j=1}^{h} \\left| \\frac{p_{ij}^{(k)} - p_{ij}^{(m)}}{\\sigma_{ij}} \\right| \\\\\n",
    "\\text {Obviously, it is not difficult to give an example in which the new norm is not equivalent to the usual $L_{1}$ norm.}\n",
    "\\end{gather}$$\n",
    "5. $$\\begin{gather}\n",
    "\\text{Obviously, a counterexample can be picked up. Let the rotation matrix is the rotation matrix by $\\frac{\\pi}{4}$(which is not symmetric). Let :} \\\\\n",
    "x^{(1)} = (0, 1), x^{(2)} = (1, 0), x^{(3)} = (2, 1): L_{1}(x^{(2)}, x^{(3)}) = L_{(1)}(x^{(1)}, x^{(2)}) = 2 \\\\\n",
    "\\text{After rotation the new norm is: }\n",
    "\\tilde{L}_{1}(\\tilde{x}^{(1)},\\tilde{x}^{(2)}) = \\frac{2}{\\sqrt{2}}, \\tilde{L}_{1}(\\tilde{x}^{(2)},\\tilde{x}^{(3)})=\\frac{5}{\\sqrt{2}}\n",
    "\\end{gather}$$"
   ]
  },
  {
   "cell_type": "markdown",
   "metadata": {},
   "source": [
    "## Question 3\n",
    "\n",
    "Which of the following statements about $k$-Nearest Neighbor ($k$-NN) are true in a classification setting, and for all $k$? Select all that apply.\n",
    "1. The decision boundary (hyperplane between classes in feature space) of the k-NN classifier is linear.\n",
    "2. The training error of a 1-NN will always be lower than that of 5-NN.\n",
    "3. The test error of a 1-NN will always be lower than that of a 5-NN.\n",
    "4. The time needed to classify a test example with the k-NN classifier grows with the size of the training set.\n",
    "5. None of the above.\n",
    "\n",
    "*Your Answer:* 24\n",
    "\n",
    "*Your Explanation:*\n",
    "\n",
    "1. Example in the plane: points of one color in a circle in the center, points of another color on the perimeter. For small k, the dividing line will be a circle.\n",
    "2. In the case of the whole sample for 1-NN, the error will be 0 because the distance will be considered to the same point. In the case of 5-NN, 0 is only an estimate from below, i.e. it does not guarantee greater accuracy.\n",
    "3. Consider a 1d example. You have $x_{train}=(-5,-4,-3,-2,-1,3)$ and $y_{train}=(0,0,0,0,0,1)$. Now consider a new point with $x=2$ and $y=0$. Then this will have test error 100% for 1-NN and 0% for 5-NN\n",
    "4. KNN needs to make a full pass through the entire data set and sort points by distance. The time needed thus grows with the size of the data."
   ]
  },
  {
   "cell_type": "code",
   "execution_count": null,
   "metadata": {},
   "outputs": [],
   "source": []
  }
 ],
 "metadata": {
  "kernelspec": {
   "display_name": "Python 3 (ipykernel)",
   "language": "python",
   "name": "python3"
  },
  "language_info": {
   "codemirror_mode": {
    "name": "ipython",
    "version": 3
   },
   "file_extension": ".py",
   "mimetype": "text/x-python",
   "name": "python",
   "nbconvert_exporter": "python",
   "pygments_lexer": "ipython3",
   "version": "3.11.5"
  }
 },
 "nbformat": 4,
 "nbformat_minor": 4
}
