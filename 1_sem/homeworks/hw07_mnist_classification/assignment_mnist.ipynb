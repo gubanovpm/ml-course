{
 "cells": [
  {
   "attachments": {},
   "cell_type": "markdown",
   "metadata": {},
   "source": [
    "## Домашнее задание №7\n",
    "\n",
    "##### Автор: [Радослав Нейчев](https://www.linkedin.com/in/radoslav-neychev/), @neychev"
   ]
  },
  {
   "cell_type": "code",
   "execution_count": 30,
   "metadata": {},
   "outputs": [],
   "source": [
    "#special for me\n",
    "#%pip install torch torchvision torchaudio --index-url https://download.pytorch.org/whl/cu118 "
   ]
  },
  {
   "cell_type": "code",
   "execution_count": 31,
   "metadata": {},
   "outputs": [],
   "source": [
    "#%pip install cuda-python"
   ]
  },
  {
   "cell_type": "code",
   "execution_count": 32,
   "metadata": {},
   "outputs": [],
   "source": [
    "import numpy as np\n",
    "\n",
    "import torch\n",
    "from torch import nn\n",
    "from torch.nn import functional as F\n",
    "\n",
    "import torchvision\n",
    "from torchvision.datasets import MNIST\n",
    "\n",
    "from matplotlib import pyplot as plt\n",
    "from IPython.display import clear_output"
   ]
  },
  {
   "attachments": {},
   "cell_type": "markdown",
   "metadata": {},
   "source": [
    "### Задача №1: \n",
    "Обратимся к классической задаче распознавания рукописных цифр. Мы будем работать с набором данных [MNIST](http://yann.lecun.com/exdb/mnist/). В данном задании воспользуемся всем датасетом целиком.\n",
    "\n",
    "__Ваша основная задача: реализовать весь пайплан обучения модели и добиться качества $\\geq 92\\%$ на тестовой выборке.__\n",
    "\n",
    "Код для обучения модели в данном задании отсутствует. Присутствует лишь несколько тестов, которые помогут вам отладить свое решение. За примером можно обратиться к ноутбуку первого занятия.\n",
    "\n",
    "Настоятельно рекомендуем написать код \"с нуля\", лишь поглядывая на готовые примеры, а не просто \"скопировать-вставить\". Это поможет вам в дальнейшем."
   ]
  },
  {
   "cell_type": "code",
   "execution_count": 33,
   "metadata": {},
   "outputs": [
    {
     "data": {
      "text/plain": [
       "Text(0.5, 1.0, 'Image label: 3')"
      ]
     },
     "execution_count": 33,
     "metadata": {},
     "output_type": "execute_result"
    },
    {
     "data": {
      "image/png": "[encoded data removed]",
      "text/plain": [
       "<Figure size 640x480 with 1 Axes>"
      ]
     },
     "metadata": {},
     "output_type": "display_data"
    }
   ],
   "source": [
    "# do not change the code in the block below\n",
    "# __________start of block__________\n",
    "\n",
    "train_mnist_data = MNIST('.', train=True, transform=torchvision.transforms.ToTensor(), download=True)\n",
    "test_mnist_data = MNIST('.', train=False, transform=torchvision.transforms.ToTensor(), download=True)\n",
    "\n",
    "\n",
    "train_data_loader = torch.utils.data.DataLoader(\n",
    "    train_mnist_data,\n",
    "    batch_size=32,\n",
    "    shuffle=True,\n",
    "    num_workers=2\n",
    ")\n",
    "\n",
    "test_data_loader = torch.utils.data.DataLoader(\n",
    "    test_mnist_data,\n",
    "    batch_size=32,\n",
    "    shuffle=False,\n",
    "    num_workers=2\n",
    ")\n",
    "\n",
    "random_batch = next(iter(train_data_loader))\n",
    "_image, _label = random_batch[0][0], random_batch[1][0]\n",
    "plt.figure()\n",
    "plt.imshow(_image.reshape(28, 28))\n",
    "plt.title(f'Image label: {_label}')\n",
    "# __________end of block__________"
   ]
  },
  {
   "attachments": {},
   "cell_type": "markdown",
   "metadata": {},
   "source": [
    "Постройте модель ниже. Пожалуйста, не стройте переусложненную сеть, не стоит делать ее глубже четырех слоев (можно и меньше). Ваша основная задача – обучить модель и получить качество на отложенной (тестовой выборке) не менее 92% accuracy.\n",
    "\n",
    "*Комментарий: для этого достаточно линейных слоев и функций активации.*\n",
    "\n",
    "__Внимание, ваша модель должна быть представлена именно переменной `model`.__"
   ]
  },
  {
   "cell_type": "code",
   "execution_count": 38,
   "metadata": {},
   "outputs": [],
   "source": [
    "class StupidNN(nn.Module):\n",
    "    def __init__(self):\n",
    "        super().__init__()\n",
    "        self.flatten = nn.Flatten()\n",
    "        self.linear_relu_stack = nn.Sequential(\n",
    "            nn.Linear(28*28, 512),\n",
    "            nn.ReLU(),\n",
    "            nn.Linear(512, 512),\n",
    "            nn.ReLU(),\n",
    "            nn.Linear(512, 10),\n",
    "        )\n",
    "    def forward(self, x):\n",
    "        x = self.flatten(x)\n",
    "        logits = self.linear_relu_stack(x)\n",
    "        return logits\n",
    "        "
   ]
  },
  {
   "cell_type": "code",
   "execution_count": 63,
   "metadata": {},
   "outputs": [
    {
     "name": "stdout",
     "output_type": "stream",
     "text": [
      "cpu\n"
     ]
    }
   ],
   "source": [
    "device = (\n",
    "    \"cuda\"\n",
    "    if torch.cuda.is_available()\n",
    "    else \"mps\"\n",
    "    if torch.backends.mps.is_available()\n",
    "    else \"cpu\"\n",
    ")\n",
    "print(device)"
   ]
  },
  {
   "cell_type": "code",
   "execution_count": 41,
   "metadata": {},
   "outputs": [
    {
     "name": "stdout",
     "output_type": "stream",
     "text": [
      "StupidNN(\n",
      "  (flatten): Flatten(start_dim=1, end_dim=-1)\n",
      "  (linear_relu_stack): Sequential(\n",
      "    (0): Linear(in_features=784, out_features=512, bias=True)\n",
      "    (1): ReLU()\n",
      "    (2): Linear(in_features=512, out_features=512, bias=True)\n",
      "    (3): ReLU()\n",
      "    (4): Linear(in_features=512, out_features=10, bias=True)\n",
      "  )\n",
      ")\n"
     ]
    }
   ],
   "source": [
    "# Creating model instance\n",
    "model = StupidNN().to(device) # your code here\n",
    "print(model)"
   ]
  },
  {
   "attachments": {},
   "cell_type": "markdown",
   "metadata": {},
   "source": [
    "Локальные тесты для проверки вашей модели доступны ниже:"
   ]
  },
  {
   "cell_type": "code",
   "execution_count": 42,
   "metadata": {},
   "outputs": [
    {
     "name": "stdout",
     "output_type": "stream",
     "text": [
      "Everything seems fine!\n"
     ]
    }
   ],
   "source": [
    "# do not change the code in the block below\n",
    "# __________start of block__________\n",
    "assert model is not None, 'Please, use `model` variable to store your model'\n",
    "\n",
    "try:\n",
    "    x = random_batch[0].reshape(-1, 784)\n",
    "    y = random_batch[1]\n",
    "\n",
    "    # compute outputs given inputs, both are variables\n",
    "    y_predicted = model(x)    \n",
    "except Exception as e:\n",
    "    print('Something is wrong with the model')\n",
    "    raise e\n",
    "    \n",
    "    \n",
    "assert y_predicted.shape[-1] == 10, 'Model should predict 10 logits/probas'\n",
    "\n",
    "print('Everything seems fine!')\n",
    "# __________end of block__________"
   ]
  },
  {
   "attachments": {},
   "cell_type": "markdown",
   "metadata": {},
   "source": [
    "Настройте параметры модели на обучающей выборке. Рекомендуем поработать с различными оптимизаторами."
   ]
  },
  {
   "cell_type": "code",
   "execution_count": 55,
   "metadata": {},
   "outputs": [],
   "source": [
    "learning_rate = 1e-3\n",
    "batch_size = 64\n",
    "epochs = 8\n",
    "\n",
    "loss_fn = nn.CrossEntropyLoss()\n",
    "optimizer = torch.optim.SGD(model.parameters(), lr=learning_rate)\n",
    "\n",
    "def train_loop(dataloader, model, loss_fn, optimizer):\n",
    "    size = len(dataloader.dataset)\n",
    "    # Set the model to training mode - important for batch normalization and dropout layers\n",
    "    # Unnecessary in this situation but added for best practices\n",
    "    model.train()\n",
    "    for batch, (X, y) in enumerate(dataloader):\n",
    "        # Compute prediction and loss\n",
    "        pred = model(X)\n",
    "        loss = loss_fn(pred, y)\n",
    "\n",
    "        # Backpropagation\n",
    "        loss.backward()\n",
    "        optimizer.step()\n",
    "        optimizer.zero_grad()\n",
    "\n",
    "        if batch % 100 == 0:\n",
    "            loss, current = loss.item(), (batch + 1) * len(X)\n",
    "            print(f\"loss: {loss:>7f}  [{current:>5d}/{size:>5d}]\")\n",
    "\n",
    "\n",
    "def test_loop(dataloader, model, loss_fn):\n",
    "    # Set the model to evaluation mode - important for batch normalization and dropout layers\n",
    "    # Unnecessary in this situation but added for best practices\n",
    "    model.eval()\n",
    "    size = len(dataloader.dataset)\n",
    "    num_batches = len(dataloader)\n",
    "    test_loss, correct = 0, 0\n",
    "\n",
    "    # Evaluating the model with torch.no_grad() ensures that no gradients are computed during test mode\n",
    "    # also serves to reduce unnecessary gradient computations and memory usage for tensors with requires_grad=True\n",
    "    with torch.no_grad():\n",
    "        for X, y in dataloader:\n",
    "            pred = model(X)\n",
    "            test_loss += loss_fn(pred, y).item()\n",
    "            correct += (pred.argmax(1) == y).type(torch.float).sum().item()\n",
    "\n",
    "    test_loss /= num_batches\n",
    "    correct /= size\n",
    "    print(f\"Test Error: \\n Accuracy: {(100*correct):>0.1f}%, Avg loss: {test_loss:>8f} \\n\")\n"
   ]
  },
  {
   "cell_type": "code",
   "execution_count": 56,
   "metadata": {},
   "outputs": [
    {
     "name": "stdout",
     "output_type": "stream",
     "text": [
      "Epoch 1\n",
      "-------------------------------\n",
      "loss: 0.244125  [   32/60000]\n",
      "loss: 0.291798  [ 3232/60000]\n",
      "loss: 0.570548  [ 6432/60000]\n",
      "loss: 0.329486  [ 9632/60000]\n",
      "loss: 0.421884  [12832/60000]\n",
      "loss: 0.297929  [16032/60000]\n",
      "loss: 0.271834  [19232/60000]\n",
      "loss: 0.252993  [22432/60000]\n",
      "loss: 0.626711  [25632/60000]\n",
      "loss: 0.150087  [28832/60000]\n",
      "loss: 0.146505  [32032/60000]\n",
      "loss: 0.231789  [35232/60000]\n",
      "loss: 0.561992  [38432/60000]\n",
      "loss: 0.150210  [41632/60000]\n",
      "loss: 0.216799  [44832/60000]\n",
      "loss: 0.230149  [48032/60000]\n",
      "loss: 0.132401  [51232/60000]\n",
      "loss: 0.370968  [54432/60000]\n",
      "loss: 0.346826  [57632/60000]\n",
      "Test Error: \n",
      " Accuracy: 91.7%, Avg loss: 0.291276 \n",
      "\n",
      "Epoch 2\n",
      "-------------------------------\n",
      "loss: 0.198115  [   32/60000]\n",
      "loss: 0.385758  [ 3232/60000]\n",
      "loss: 0.446123  [ 6432/60000]\n",
      "loss: 0.290888  [ 9632/60000]\n",
      "loss: 0.577636  [12832/60000]\n",
      "loss: 0.185085  [16032/60000]\n",
      "loss: 0.313485  [19232/60000]\n",
      "loss: 0.207374  [22432/60000]\n",
      "loss: 0.306897  [25632/60000]\n",
      "loss: 0.200881  [28832/60000]\n",
      "loss: 0.437309  [32032/60000]\n",
      "loss: 0.347933  [35232/60000]\n",
      "loss: 0.412144  [38432/60000]\n",
      "loss: 0.353854  [41632/60000]\n",
      "loss: 0.521064  [44832/60000]\n",
      "loss: 0.486510  [48032/60000]\n",
      "loss: 0.108516  [51232/60000]\n",
      "loss: 0.155069  [54432/60000]\n",
      "loss: 0.485894  [57632/60000]\n",
      "Test Error: \n",
      " Accuracy: 91.8%, Avg loss: 0.285894 \n",
      "\n",
      "Epoch 3\n",
      "-------------------------------\n",
      "loss: 0.280143  [   32/60000]\n",
      "loss: 0.337576  [ 3232/60000]\n",
      "loss: 0.463184  [ 6432/60000]\n",
      "loss: 0.168443  [ 9632/60000]\n",
      "loss: 0.322971  [12832/60000]\n",
      "loss: 0.207726  [16032/60000]\n",
      "loss: 0.154207  [19232/60000]\n",
      "loss: 0.275278  [22432/60000]\n",
      "loss: 0.247266  [25632/60000]\n",
      "loss: 0.214621  [28832/60000]\n",
      "loss: 0.275545  [32032/60000]\n",
      "loss: 0.537039  [35232/60000]\n",
      "loss: 0.643730  [38432/60000]\n",
      "loss: 0.303077  [41632/60000]\n",
      "loss: 0.285529  [44832/60000]\n",
      "loss: 0.226253  [48032/60000]\n",
      "loss: 0.078897  [51232/60000]\n",
      "loss: 0.497339  [54432/60000]\n",
      "loss: 0.408641  [57632/60000]\n",
      "Test Error: \n",
      " Accuracy: 92.0%, Avg loss: 0.280984 \n",
      "\n",
      "Epoch 4\n",
      "-------------------------------\n",
      "loss: 0.246102  [   32/60000]\n",
      "loss: 0.705612  [ 3232/60000]\n",
      "loss: 0.180179  [ 6432/60000]\n",
      "loss: 0.259360  [ 9632/60000]\n",
      "loss: 0.297959  [12832/60000]\n",
      "loss: 0.327915  [16032/60000]\n",
      "loss: 0.339561  [19232/60000]\n",
      "loss: 0.454526  [22432/60000]\n",
      "loss: 0.552678  [25632/60000]\n",
      "loss: 0.336843  [28832/60000]\n",
      "loss: 0.298793  [32032/60000]\n",
      "loss: 0.505595  [35232/60000]\n",
      "loss: 0.351098  [38432/60000]\n",
      "loss: 0.323526  [41632/60000]\n",
      "loss: 0.288867  [44832/60000]\n",
      "loss: 0.231784  [48032/60000]\n",
      "loss: 0.316919  [51232/60000]\n",
      "loss: 0.242840  [54432/60000]\n",
      "loss: 0.401088  [57632/60000]\n",
      "Test Error: \n",
      " Accuracy: 92.1%, Avg loss: 0.276329 \n",
      "\n",
      "Epoch 5\n",
      "-------------------------------\n",
      "loss: 0.132085  [   32/60000]\n",
      "loss: 0.171630  [ 3232/60000]\n",
      "loss: 0.174701  [ 6432/60000]\n",
      "loss: 0.093078  [ 9632/60000]\n",
      "loss: 0.233197  [12832/60000]\n",
      "loss: 0.252689  [16032/60000]\n",
      "loss: 0.281239  [19232/60000]\n",
      "loss: 0.467198  [22432/60000]\n",
      "loss: 0.256682  [25632/60000]\n",
      "loss: 0.051456  [28832/60000]\n",
      "loss: 0.365706  [32032/60000]\n",
      "loss: 0.160588  [35232/60000]\n",
      "loss: 0.312513  [38432/60000]\n",
      "loss: 0.456593  [41632/60000]\n",
      "loss: 0.229394  [44832/60000]\n",
      "loss: 0.209712  [48032/60000]\n",
      "loss: 0.157302  [51232/60000]\n",
      "loss: 0.270097  [54432/60000]\n",
      "loss: 0.268801  [57632/60000]\n",
      "Test Error: \n",
      " Accuracy: 92.3%, Avg loss: 0.273195 \n",
      "\n",
      "Epoch 6\n",
      "-------------------------------\n",
      "loss: 0.214637  [   32/60000]\n",
      "loss: 0.334567  [ 3232/60000]\n",
      "loss: 0.293344  [ 6432/60000]\n",
      "loss: 0.255560  [ 9632/60000]\n",
      "loss: 0.289181  [12832/60000]\n",
      "loss: 0.284958  [16032/60000]\n",
      "loss: 0.260683  [19232/60000]\n",
      "loss: 0.448349  [22432/60000]\n",
      "loss: 0.273996  [25632/60000]\n",
      "loss: 0.384524  [28832/60000]\n",
      "loss: 0.369203  [32032/60000]\n",
      "loss: 0.252787  [35232/60000]\n",
      "loss: 0.433087  [38432/60000]\n",
      "loss: 0.469930  [41632/60000]\n",
      "loss: 0.100015  [44832/60000]\n",
      "loss: 0.200148  [48032/60000]\n",
      "loss: 0.560468  [51232/60000]\n",
      "loss: 0.497286  [54432/60000]\n",
      "loss: 0.418245  [57632/60000]\n",
      "Test Error: \n",
      " Accuracy: 92.4%, Avg loss: 0.268724 \n",
      "\n",
      "Epoch 7\n",
      "-------------------------------\n",
      "loss: 0.315808  [   32/60000]\n",
      "loss: 0.120697  [ 3232/60000]\n",
      "loss: 0.352430  [ 6432/60000]\n",
      "loss: 0.269545  [ 9632/60000]\n",
      "loss: 0.113432  [12832/60000]\n",
      "loss: 0.303711  [16032/60000]\n",
      "loss: 0.213279  [19232/60000]\n",
      "loss: 0.471535  [22432/60000]\n",
      "loss: 0.275681  [25632/60000]\n",
      "loss: 0.446357  [28832/60000]\n",
      "loss: 0.436024  [32032/60000]\n",
      "loss: 0.097708  [35232/60000]\n",
      "loss: 0.261435  [38432/60000]\n",
      "loss: 0.152302  [41632/60000]\n",
      "loss: 0.363801  [44832/60000]\n",
      "loss: 0.159559  [48032/60000]\n",
      "loss: 0.360629  [51232/60000]\n",
      "loss: 0.608070  [54432/60000]\n",
      "loss: 0.130981  [57632/60000]\n",
      "Test Error: \n",
      " Accuracy: 92.5%, Avg loss: 0.265235 \n",
      "\n",
      "Epoch 8\n",
      "-------------------------------\n",
      "loss: 0.092629  [   32/60000]\n",
      "loss: 0.358828  [ 3232/60000]\n",
      "loss: 0.565838  [ 6432/60000]\n",
      "loss: 0.336488  [ 9632/60000]\n",
      "loss: 0.222623  [12832/60000]\n",
      "loss: 0.147676  [16032/60000]\n",
      "loss: 0.171985  [19232/60000]\n",
      "loss: 0.255670  [22432/60000]\n",
      "loss: 0.110015  [25632/60000]\n",
      "loss: 0.145556  [28832/60000]\n",
      "loss: 0.551497  [32032/60000]\n",
      "loss: 0.551995  [35232/60000]\n",
      "loss: 0.378973  [38432/60000]\n",
      "loss: 0.233646  [41632/60000]\n",
      "loss: 0.097544  [44832/60000]\n",
      "loss: 0.118881  [48032/60000]\n",
      "loss: 0.162144  [51232/60000]\n",
      "loss: 0.148775  [54432/60000]\n",
      "loss: 0.267941  [57632/60000]\n",
      "Test Error: \n",
      " Accuracy: 92.6%, Avg loss: 0.261462 \n",
      "\n",
      "Epoch 9\n",
      "-------------------------------\n",
      "loss: 0.315131  [   32/60000]\n",
      "loss: 0.228917  [ 3232/60000]\n",
      "loss: 0.139333  [ 6432/60000]\n",
      "loss: 0.217618  [ 9632/60000]\n",
      "loss: 0.104191  [12832/60000]\n",
      "loss: 0.147189  [16032/60000]\n",
      "loss: 0.586809  [19232/60000]\n",
      "loss: 0.233451  [22432/60000]\n",
      "loss: 0.347616  [25632/60000]\n",
      "loss: 0.226774  [28832/60000]\n",
      "loss: 0.333959  [32032/60000]\n",
      "loss: 0.079054  [35232/60000]\n",
      "loss: 0.610616  [38432/60000]\n",
      "loss: 0.286681  [41632/60000]\n",
      "loss: 0.323291  [44832/60000]\n",
      "loss: 0.198319  [48032/60000]\n",
      "loss: 0.253572  [51232/60000]\n",
      "loss: 0.116808  [54432/60000]\n",
      "loss: 0.337613  [57632/60000]\n",
      "Test Error: \n",
      " Accuracy: 92.7%, Avg loss: 0.258641 \n",
      "\n",
      "Epoch 10\n",
      "-------------------------------\n",
      "loss: 0.477930  [   32/60000]\n",
      "loss: 0.180854  [ 3232/60000]\n",
      "loss: 0.177349  [ 6432/60000]\n",
      "loss: 0.277860  [ 9632/60000]\n",
      "loss: 0.198372  [12832/60000]\n",
      "loss: 0.428555  [16032/60000]\n",
      "loss: 0.467500  [19232/60000]\n",
      "loss: 0.169162  [22432/60000]\n",
      "loss: 0.140916  [25632/60000]\n",
      "loss: 0.214978  [28832/60000]\n",
      "loss: 0.367105  [32032/60000]\n",
      "loss: 0.308309  [35232/60000]\n",
      "loss: 0.300433  [38432/60000]\n",
      "loss: 0.351698  [41632/60000]\n",
      "loss: 0.158219  [44832/60000]\n",
      "loss: 0.317599  [48032/60000]\n",
      "loss: 0.155681  [51232/60000]\n",
      "loss: 0.195835  [54432/60000]\n",
      "loss: 0.161398  [57632/60000]\n",
      "Test Error: \n",
      " Accuracy: 92.8%, Avg loss: 0.255895 \n",
      "\n",
      "Done!\n"
     ]
    }
   ],
   "source": [
    "loss_fn = nn.CrossEntropyLoss()\n",
    "optimizer = torch.optim.SGD(model.parameters(), lr=learning_rate)\n",
    "\n",
    "epochs = 10\n",
    "for t in range(epochs):\n",
    "    print(f\"Epoch {t+1}\\n-------------------------------\")\n",
    "    train_loop(train_data_loader, model, loss_fn, optimizer)\n",
    "    test_loop(test_data_loader, model, loss_fn)\n",
    "print(\"Done!\")"
   ]
  },
  {
   "attachments": {},
   "cell_type": "markdown",
   "metadata": {},
   "source": [
    "Также, напоминаем, что в любой момент можно обратиться к замечательной [документации](https://pytorch.org/docs/stable/index.html) и [обучающим примерам](https://pytorch.org/tutorials/).  "
   ]
  },
  {
   "attachments": {},
   "cell_type": "markdown",
   "metadata": {},
   "source": [
    "Оценим качество классификации:"
   ]
  },
  {
   "cell_type": "code",
   "execution_count": 57,
   "metadata": {},
   "outputs": [],
   "source": [
    "predicted_labels = []\n",
    "real_labels = []\n",
    "model.eval()\n",
    "with torch.no_grad():\n",
    "    for batch in train_data_loader:\n",
    "        y_predicted = model(batch[0].reshape(-1, 784))\n",
    "        predicted_labels.append(y_predicted.argmax(dim=1))\n",
    "        real_labels.append(batch[1])\n",
    "\n",
    "predicted_labels = torch.cat(predicted_labels)\n",
    "real_labels = torch.cat(real_labels)\n",
    "train_acc = (predicted_labels == real_labels).type(torch.FloatTensor).mean()"
   ]
  },
  {
   "cell_type": "code",
   "execution_count": 58,
   "metadata": {},
   "outputs": [
    {
     "name": "stdout",
     "output_type": "stream",
     "text": [
      "Neural network accuracy on train set: 0.92515\n"
     ]
    }
   ],
   "source": [
    "print(f'Neural network accuracy on train set: {train_acc:3.5}')"
   ]
  },
  {
   "cell_type": "code",
   "execution_count": 59,
   "metadata": {},
   "outputs": [],
   "source": [
    "predicted_labels = []\n",
    "real_labels = []\n",
    "model.eval()\n",
    "with torch.no_grad():\n",
    "    for batch in test_data_loader:\n",
    "        y_predicted = model(batch[0].reshape(-1, 784))\n",
    "        predicted_labels.append(y_predicted.argmax(dim=1))\n",
    "        real_labels.append(batch[1])\n",
    "\n",
    "predicted_labels = torch.cat(predicted_labels)\n",
    "real_labels = torch.cat(real_labels)\n",
    "test_acc = (predicted_labels == real_labels).type(torch.FloatTensor).mean()"
   ]
  },
  {
   "cell_type": "code",
   "execution_count": 60,
   "metadata": {},
   "outputs": [
    {
     "name": "stdout",
     "output_type": "stream",
     "text": [
      "Neural network accuracy on test set: 0.9275\n"
     ]
    }
   ],
   "source": [
    "print(f'Neural network accuracy on test set: {test_acc:3.5}')"
   ]
  },
  {
   "attachments": {},
   "cell_type": "markdown",
   "metadata": {},
   "source": [
    "Проверка, что необходимые пороги пройдены:"
   ]
  },
  {
   "cell_type": "code",
   "execution_count": 61,
   "metadata": {},
   "outputs": [],
   "source": [
    "assert test_acc >= 0.92, 'Test accuracy is below 0.92 threshold'\n",
    "assert train_acc >= 0.91, 'Train accuracy is below 0.91 while test accuracy is fine. We recommend to check your model and data flow'"
   ]
  },
  {
   "attachments": {},
   "cell_type": "markdown",
   "metadata": {},
   "source": [
    "### Сдача задания\n",
    "Загрузите файл `hw07_data_dict.npy` (ссылка есть на странице с заданием) и запустите код ниже для генерации посылки."
   ]
  },
  {
   "cell_type": "code",
   "execution_count": 62,
   "metadata": {},
   "outputs": [
    {
     "name": "stdout",
     "output_type": "stream",
     "text": [
      "File saved to `submission_dict_hw07.json`\n"
     ]
    }
   ],
   "source": [
    "# do not change the code in the block below\n",
    "# __________start of block__________\n",
    "import os\n",
    "import json\n",
    "assert os.path.exists('hw07_data_dict.npy'), 'Please, download `hw07_data_dict.npy` and place it in the working directory'\n",
    "\n",
    "def get_predictions(model, eval_data, step=10):\n",
    "    \n",
    "    predicted_labels = []\n",
    "    model.eval()\n",
    "    with torch.no_grad():\n",
    "        for idx in range(0, len(eval_data), step):\n",
    "            y_predicted = model(eval_data[idx:idx+step].reshape(-1, 784))\n",
    "            predicted_labels.append(y_predicted.argmax(dim=1))\n",
    "    \n",
    "    predicted_labels = torch.cat(predicted_labels).numpy()\n",
    "    predicted_labels = ','.join([str(x) for x in list(predicted_labels)])\n",
    "    return predicted_labels\n",
    "\n",
    "loaded_data_dict = np.load('hw07_data_dict.npy', allow_pickle=True)\n",
    "\n",
    "submission_dict = {\n",
    "    'train': get_predictions(model, torch.FloatTensor(loaded_data_dict.item()['train'])),\n",
    "    'test': get_predictions(model, torch.FloatTensor(loaded_data_dict.item()['test']))\n",
    "}\n",
    "\n",
    "with open('submission_dict_hw07.json', 'w') as iofile:\n",
    "    json.dump(submission_dict, iofile)\n",
    "print('File saved to `submission_dict_hw07.json`')\n",
    "# __________end of block__________"
   ]
  },
  {
   "attachments": {},
   "cell_type": "markdown",
   "metadata": {},
   "source": [
    "На этом задание завершено. Поздравляем!"
   ]
  },
  {
   "cell_type": "code",
   "execution_count": null,
   "metadata": {},
   "outputs": [],
   "source": []
  }
 ],
 "metadata": {
  "kernelspec": {
   "display_name": "Python 3 (ipykernel)",
   "language": "python",
   "name": "python3"
  },
  "language_info": {
   "codemirror_mode": {
    "name": "ipython",
    "version": 3
   },
   "file_extension": ".py",
   "mimetype": "text/x-python",
   "name": "python",
   "nbconvert_exporter": "python",
   "pygments_lexer": "ipython3",
   "version": "3.11.0"
  }
 },
 "nbformat": 4,
 "nbformat_minor": 4
}
